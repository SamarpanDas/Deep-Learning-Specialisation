{
 "cells": [
  {
   "cell_type": "code",
   "execution_count": 13,
   "metadata": {},
   "outputs": [],
   "source": [
    "import numpy as np\n",
    "import tensorflow as tf"
   ]
  },
  {
   "cell_type": "code",
   "execution_count": 14,
   "metadata": {},
   "outputs": [
    {
     "name": "stdout",
     "output_type": "stream",
     "text": [
      "2.2.0\n"
     ]
    }
   ],
   "source": [
    "print(tf.__version__)"
   ]
  },
  {
   "cell_type": "code",
   "execution_count": 15,
   "metadata": {},
   "outputs": [
    {
     "data": {
      "text/plain": [
       "5"
      ]
     },
     "execution_count": 15,
     "metadata": {},
     "output_type": "execute_result"
    }
   ],
   "source": [
    "2+3"
   ]
  },
  {
   "cell_type": "code",
   "execution_count": 38,
   "metadata": {},
   "outputs": [],
   "source": [
    "import tensorflow.compat.v1 as tf\n",
    "tf.disable_v2_behavior()"
   ]
  },
  {
   "cell_type": "code",
   "execution_count": 71,
   "metadata": {},
   "outputs": [
    {
     "name": "stdout",
     "output_type": "stream",
     "text": [
      "0.0\n"
     ]
    }
   ],
   "source": [
    "cofficient = np.array([[1.], [-10], [25.]])\n",
    "\n",
    "w = tf.Variable(0, dtype = tf.float32)\n",
    "#cost = w**2 - 10*w + 25\n",
    "\n",
    "x = tf.placeholder(tf.float32, [3,1])\n",
    "cost = x[0][0]*w**2 + x[1][0]*w + x[2][0]\n",
    "\n",
    "\n",
    "train = tf.train.GradientDescentOptimizer(0.01).minimize(cost)\n",
    "init = tf.global_variables_initializer()\n",
    "session = tf.Session()\n",
    "\n",
    "session.run(init)\n",
    "print(session.run(w))\n"
   ]
  },
  {
   "cell_type": "code",
   "execution_count": 72,
   "metadata": {},
   "outputs": [
    {
     "name": "stdout",
     "output_type": "stream",
     "text": [
      "0.099999994\n"
     ]
    }
   ],
   "source": [
    "session.run(train, feed_dict= {x:cofficient})\n",
    "print(session.run(w))"
   ]
  },
  {
   "cell_type": "code",
   "execution_count": 73,
   "metadata": {},
   "outputs": [
    {
     "name": "stdout",
     "output_type": "stream",
     "text": [
      "4.9999886\n"
     ]
    }
   ],
   "source": [
    "for i in range(1000):\n",
    "    session.run(train, feed_dict= {x:cofficient})\n",
    "\n",
    "print(session.run(w))\n",
    "    "
   ]
  },
  {
   "cell_type": "code",
   "execution_count": 2,
   "metadata": {},
   "outputs": [],
   "source": [
    "##### new part ## my experiment with Tensorflow"
   ]
  },
  {
   "cell_type": "code",
   "execution_count": 72,
   "metadata": {},
   "outputs": [],
   "source": [
    "import tensorflow.compat.v1 as tf\n",
    "tf.disable_v2_behavior()\n",
    "\n",
    "import matplotlib.pyplot as plt"
   ]
  },
  {
   "cell_type": "code",
   "execution_count": 102,
   "metadata": {},
   "outputs": [],
   "source": [
    "w = tf.Variable(4, dtype = tf.float32)\n",
    "cost = (w**2 - 10*w + 25)\n",
    "train = tf.train.GradientDescentOptimizer(0.01).minimize(cost)\n",
    "\n"
   ]
  },
  {
   "cell_type": "code",
   "execution_count": 103,
   "metadata": {},
   "outputs": [],
   "source": [
    "X = []\n",
    "Y = []"
   ]
  },
  {
   "cell_type": "code",
   "execution_count": 104,
   "metadata": {},
   "outputs": [
    {
     "name": "stdout",
     "output_type": "stream",
     "text": [
      "4.02\n",
      "4.0396\n",
      "4.058808\n",
      "4.0776315\n",
      "4.096079\n",
      "4.114157\n",
      "4.131874\n",
      "4.1492367\n",
      "4.166252\n",
      "4.182927\n",
      "4.199269\n",
      "4.2152834\n",
      "4.2309775\n",
      "4.246358\n",
      "4.2614307\n",
      "4.276202\n",
      "4.290678\n",
      "4.3048644\n",
      "4.318767\n",
      "4.3323917\n",
      "4.345744\n",
      "4.358829\n",
      "4.3716526\n",
      "4.3842196\n",
      "4.3965354\n",
      "4.4086046\n",
      "4.4204326\n",
      "4.432024\n",
      "4.4433837\n",
      "4.454516\n",
      "4.4654255\n",
      "4.476117\n",
      "4.4865947\n",
      "4.496863\n",
      "4.5069256\n",
      "4.516787\n",
      "4.526451\n",
      "4.535922\n",
      "4.5452037\n",
      "4.5543\n",
      "4.563214\n",
      "4.5719495\n",
      "4.5805106\n",
      "4.5889006\n",
      "4.5971227\n",
      "4.6051803\n",
      "4.6130767\n",
      "4.6208153\n",
      "4.628399\n",
      "4.635831\n",
      "4.643114\n",
      "4.650252\n",
      "4.6572466\n",
      "4.6641016\n",
      "4.6708198\n",
      "4.6774035\n",
      "4.6838555\n",
      "4.6901784\n",
      "4.696375\n",
      "4.7024474\n",
      "4.7083983\n",
      "4.7142305\n",
      "4.719946\n",
      "4.725547\n",
      "4.7310357\n",
      "4.736415\n",
      "4.741687\n",
      "4.746853\n",
      "4.751916\n",
      "4.7568774\n",
      "4.7617397\n",
      "4.766505\n",
      "4.7711744\n",
      "4.775751\n",
      "4.7802362\n",
      "4.7846317\n",
      "4.788939\n",
      "4.7931604\n",
      "4.797297\n",
      "4.801351\n",
      "4.805324\n",
      "4.8092175\n",
      "4.813033\n",
      "4.8167725\n",
      "4.820437\n",
      "4.824028\n",
      "4.8275476\n",
      "4.8309965\n",
      "4.834377\n",
      "4.8376894\n",
      "4.8409357\n",
      "4.844117\n",
      "4.8472347\n",
      "4.85029\n",
      "4.853284\n",
      "4.8562183\n",
      "4.859094\n",
      "4.8619123\n",
      "4.864674\n",
      "4.8673806\n",
      "4.870033\n",
      "4.872632\n",
      "4.8751793\n",
      "4.8776755\n",
      "4.880122\n",
      "4.8825197\n",
      "4.884869\n",
      "4.8871717\n",
      "4.889428\n",
      "4.8916397\n",
      "4.893807\n",
      "4.895931\n",
      "4.898012\n",
      "4.900052\n",
      "4.902051\n",
      "4.90401\n",
      "4.9059296\n",
      "4.907811\n",
      "4.909655\n",
      "4.911462\n",
      "4.913233\n",
      "4.914968\n",
      "4.916669\n",
      "4.9183354\n",
      "4.9199686\n",
      "4.9215693\n",
      "4.923138\n",
      "4.9246755\n",
      "4.926182\n",
      "4.927658\n",
      "4.929105\n",
      "4.930523\n",
      "4.9319124\n",
      "4.9332743\n",
      "4.934609\n",
      "4.935917\n",
      "4.9371986\n",
      "4.9384546\n",
      "4.9396853\n",
      "4.9408917\n",
      "4.942074\n",
      "4.9432325\n",
      "4.944368\n",
      "4.9454803\n",
      "4.946571\n",
      "4.9476395\n",
      "4.9486866\n",
      "4.9497128\n",
      "4.9507184\n",
      "4.951704\n",
      "4.95267\n",
      "4.9536166\n",
      "4.954544\n",
      "4.9554534\n",
      "4.956344\n",
      "4.957217\n",
      "4.9580727\n",
      "4.9589114\n",
      "4.959733\n",
      "4.9605384\n",
      "4.9613276\n",
      "4.962101\n",
      "4.962859\n",
      "4.963602\n",
      "4.96433\n",
      "4.9650435\n",
      "4.9657426\n",
      "4.966428\n",
      "4.967099\n",
      "4.967757\n",
      "4.968402\n",
      "4.9690337\n",
      "4.969653\n",
      "4.97026\n",
      "4.9708548\n",
      "4.9714375\n",
      "4.9720087\n",
      "4.9725685\n",
      "4.9731174\n",
      "4.973655\n",
      "4.974182\n",
      "4.9746985\n",
      "4.9752045\n",
      "4.9757004\n",
      "4.9761863\n",
      "4.9766626\n",
      "4.9771295\n",
      "4.9775867\n",
      "4.978035\n",
      "4.978474\n",
      "4.9789047\n",
      "4.9793267\n",
      "4.97974\n",
      "4.9801455\n",
      "4.9805427\n",
      "4.9809318\n",
      "4.981313\n",
      "4.981687\n",
      "4.9820533\n",
      "4.9824123\n",
      "4.9827642\n",
      "4.983109\n",
      "4.9834466\n",
      "4.9837775\n",
      "4.984102\n",
      "4.98442\n",
      "4.984731\n",
      "4.9850364\n",
      "4.985336\n",
      "4.985629\n",
      "4.9859166\n",
      "4.9861984\n",
      "4.9864745\n",
      "4.986745\n",
      "4.98701\n",
      "4.98727\n",
      "4.9875245\n",
      "4.987774\n",
      "4.9880185\n",
      "4.9882584\n",
      "4.988493\n",
      "4.9887233\n",
      "4.988949\n",
      "4.98917\n",
      "4.9893866\n",
      "4.9895988\n",
      "4.9898067\n",
      "4.9900107\n",
      "4.9902105\n",
      "4.9904065\n",
      "4.990598\n",
      "4.990786\n",
      "4.99097\n",
      "4.991151\n",
      "4.991328\n",
      "4.9915013\n",
      "4.991671\n",
      "4.9918375\n",
      "4.9920006\n",
      "4.992161\n",
      "4.9923177\n",
      "4.992471\n",
      "4.992622\n",
      "4.9927692\n",
      "4.9929137\n",
      "4.9930553\n",
      "4.993194\n",
      "4.99333\n",
      "4.9934635\n",
      "4.993594\n",
      "4.9937224\n",
      "4.993848\n",
      "4.993971\n",
      "4.9940915\n",
      "4.99421\n",
      "4.9943256\n",
      "4.994439\n",
      "4.99455\n",
      "4.9946594\n",
      "4.994766\n",
      "4.994871\n",
      "4.9949737\n",
      "4.9950743\n",
      "4.995173\n",
      "4.9952693\n",
      "4.9953637\n",
      "4.995456\n",
      "4.9955473\n",
      "4.9956365\n",
      "4.9957237\n",
      "4.995809\n",
      "4.995893\n",
      "4.995975\n",
      "4.9960556\n",
      "4.9961343\n",
      "4.9962115\n",
      "4.9962873\n",
      "4.9963617\n",
      "4.9964347\n",
      "4.996506\n",
      "4.9965763\n",
      "4.996645\n",
      "4.996712\n",
      "4.996778\n",
      "4.9968424\n",
      "4.9969053\n",
      "4.9969673\n",
      "4.997028\n",
      "4.9970875\n",
      "4.9971457\n",
      "4.997203\n",
      "4.9972587\n",
      "4.9973135\n",
      "4.9973674\n",
      "4.99742\n",
      "4.9974713\n",
      "4.997522\n",
      "4.9975715\n",
      "4.99762\n",
      "4.997668\n",
      "4.9977145\n",
      "4.9977603\n",
      "4.997805\n",
      "4.997849\n",
      "4.997892\n",
      "4.997934\n",
      "4.9979753\n",
      "4.998016\n",
      "4.9980555\n",
      "4.9980946\n",
      "4.9981327\n",
      "4.99817\n",
      "4.9982066\n",
      "4.9982424\n",
      "4.9982777\n",
      "4.998312\n",
      "4.998346\n",
      "4.9983788\n",
      "4.998411\n",
      "4.998443\n",
      "4.998474\n",
      "4.9985046\n",
      "4.9985347\n",
      "4.998564\n",
      "4.9985924\n",
      "4.9986205\n",
      "4.998648\n",
      "4.9986753\n",
      "4.998702\n",
      "4.998728\n",
      "4.998753\n",
      "4.998778\n",
      "4.998802\n",
      "4.998826\n",
      "4.9988494\n",
      "4.9988723\n",
      "4.9988947\n",
      "4.9989166\n",
      "4.998938\n",
      "4.9989595\n",
      "4.9989805\n",
      "4.999001\n",
      "4.999021\n",
      "4.9990406\n",
      "4.9990597\n",
      "4.9990783\n",
      "4.999097\n",
      "4.999115\n",
      "4.9991326\n",
      "4.99915\n",
      "4.999167\n",
      "4.9991837\n",
      "4.9992\n",
      "4.999216\n",
      "4.999232\n",
      "4.999247\n",
      "4.9992623\n",
      "4.999277\n",
      "4.9992914\n",
      "4.9993057\n",
      "4.9993196\n",
      "4.9993334\n",
      "4.9993467\n",
      "4.9993596\n",
      "4.9993725\n",
      "4.999385\n",
      "4.9993973\n",
      "4.999409\n",
      "4.999421\n",
      "4.9994326\n",
      "4.999444\n",
      "4.999455\n",
      "4.999466\n",
      "4.9994764\n",
      "4.999487\n",
      "4.9994974\n",
      "4.9995074\n",
      "4.9995174\n",
      "4.999527\n",
      "4.9995365\n",
      "4.9995456\n",
      "4.9995546\n",
      "4.9995637\n",
      "4.9995723\n",
      "4.999581\n",
      "4.9995894\n",
      "4.9995975\n",
      "4.9996057\n",
      "4.999614\n",
      "4.9996214\n",
      "4.999629\n",
      "4.9996367\n",
      "4.999644\n",
      "4.999651\n",
      "4.999658\n",
      "4.999665\n",
      "4.9996715\n",
      "4.999678\n",
      "4.9996843\n",
      "4.9996905\n"
     ]
    }
   ],
   "source": [
    "init = tf.global_variables_initializer()\n",
    "\n",
    "session = tf.Session()\n",
    "session.run(init)\n",
    "\n",
    "for i in range(1, 401):\n",
    "    session.run(train)\n",
    "    print(session.run(w))\n",
    "    \n",
    "    if(i % 100 == 0):\n",
    "        X.append(i)\n",
    "        Y.append(5 - session.run(w))\n",
    "        \n",
    "    \n",
    "       \n",
    "    \n",
    "    \n"
   ]
  },
  {
   "cell_type": "code",
   "execution_count": 105,
   "metadata": {},
   "outputs": [
    {
     "data": {
      "image/png": "[encoded data removed]",
      "text/plain": [
       "<Figure size 432x288 with 1 Axes>"
      ]
     },
     "metadata": {
      "needs_background": "light"
     },
     "output_type": "display_data"
    }
   ],
   "source": [
    "plt.plot(X,Y)\n",
    "plt.show()"
   ]
  },
  {
   "cell_type": "code",
   "execution_count": 21,
   "metadata": {},
   "outputs": [
    {
     "name": "stdout",
     "output_type": "stream",
     "text": [
      "<tf.Variable 'Variable_2:0' shape=() dtype=float32_ref>\n"
     ]
    }
   ],
   "source": [
    "print(w)"
   ]
  },
  {
   "cell_type": "code",
   "execution_count": 108,
   "metadata": {},
   "outputs": [
    {
     "data": {
      "text/plain": [
       "115"
      ]
     },
     "execution_count": 108,
     "metadata": {},
     "output_type": "execute_result"
    }
   ],
   "source": [
    "75+40"
   ]
  },
  {
   "cell_type": "code",
   "execution_count": 109,
   "metadata": {},
   "outputs": [
    {
     "data": {
      "text/plain": [
       "16448.26"
      ]
     },
     "execution_count": 109,
     "metadata": {},
     "output_type": "execute_result"
    }
   ],
   "source": [
    "822413 * 2/100"
   ]
  },
  {
   "cell_type": "code",
   "execution_count": 112,
   "metadata": {},
   "outputs": [
    {
     "data": {
      "text/plain": [
       "3"
      ]
     },
     "execution_count": 112,
     "metadata": {},
     "output_type": "execute_result"
    }
   ],
   "source": [
    "a=1\n",
    "b=2\n",
    "a+b"
   ]
  },
  {
   "cell_type": "code",
   "execution_count": null,
   "metadata": {},
   "outputs": [],
   "source": []
  },
  {
   "cell_type": "code",
   "execution_count": null,
   "metadata": {},
   "outputs": [],
   "source": []
  },
  {
   "cell_type": "code",
   "execution_count": null,
   "metadata": {},
   "outputs": [],
   "source": []
  },
  {
   "cell_type": "code",
   "execution_count": null,
   "metadata": {},
   "outputs": [],
   "source": []
  },
  {
   "cell_type": "code",
   "execution_count": null,
   "metadata": {},
   "outputs": [],
   "source": []
  },
  {
   "cell_type": "code",
   "execution_count": null,
   "metadata": {},
   "outputs": [],
   "source": []
  },
  {
   "cell_type": "code",
   "execution_count": null,
   "metadata": {},
   "outputs": [],
   "source": []
  }
 ],
 "metadata": {
  "kernelspec": {
   "display_name": "Python 3",
   "language": "python",
   "name": "python3"
  },
  "language_info": {
   "codemirror_mode": {
    "name": "ipython",
    "version": 3
   },
   "file_extension": ".py",
   "mimetype": "text/x-python",
   "name": "python",
   "nbconvert_exporter": "python",
   "pygments_lexer": "ipython3",
   "version": "3.7.6"
  }
 },
 "nbformat": 4,
 "nbformat_minor": 4
}
